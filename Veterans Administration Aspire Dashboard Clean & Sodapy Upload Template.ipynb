{
 "cells": [
  {
   "cell_type": "code",
   "execution_count": 1,
   "metadata": {
    "collapsed": true
   },
   "outputs": [],
   "source": [
    "# import packages for cleaning\n",
    "import pandas as pd"
   ]
  },
  {
   "cell_type": "code",
   "execution_count": 2,
   "metadata": {
    "collapsed": true
   },
   "outputs": [],
   "source": [
    "# create dataframes from sourcefiles\n",
    "\n",
    "df2010 = pd.read_csv('/Users/Elliot/Desktop/SocrataInput/VA Hospital compare data - export - 2010_Q4.csv')\n",
    "df2011 = pd.read_csv('/Users/Elliot/Desktop/SocrataInput/VA Hospital compare data - export - 2011_Q4.csv')\n",
    "df2012 = pd.read_csv('/Users/Elliot/Desktop/SocrataInput/VA Hospital compare data - export - 2012_Q4.csv')\n",
    "df2013 = pd.read_csv('/Users/Elliot/Desktop/SocrataInput/VA Hospital compare data - export - 2013_Q4.csv')\n",
    "df2014 = pd.read_csv('/Users/Elliot/Desktop/SocrataInput/VA Hospital compare data - export - 2014_Q3.csv')"
   ]
  },
  {
   "cell_type": "code",
   "execution_count": 3,
   "metadata": {
    "collapsed": false
   },
   "outputs": [],
   "source": [
    "# create dataframe from VA json file\n",
    "\n",
    "va_json = pd.read_json('https://raw.githubusercontent.com/department-of-veterans-affairs/VHA-Facilities/master/VAFacilityLocation.json', orient='columns')"
   ]
  },
  {
   "cell_type": "code",
   "execution_count": 4,
   "metadata": {
    "collapsed": false
   },
   "outputs": [],
   "source": [
    "# drop irrelevant columns\n",
    "\n",
    "va_json = va_json.drop(va_json.columns[[0,1,2,3]], axis = 1)"
   ]
  },
  {
   "cell_type": "code",
   "execution_count": 5,
   "metadata": {
    "collapsed": true
   },
   "outputs": [],
   "source": [
    "# orient dataframe based off column id \"VA Facility Data\" and read contents\n",
    "\n",
    "df_va_json = pd.read_json((va_json.VAFacilityData).to_json(), orient='index')"
   ]
  },
  {
   "cell_type": "code",
   "execution_count": 6,
   "metadata": {
    "collapsed": false
   },
   "outputs": [],
   "source": [
    "# keep health centers only\n",
    "\n",
    "df_va_json = df_va_json[(df_va_json.type == 'VA Medical Center') | (df_va_json.type == 'Community Based Outpatient Clinic') |\n",
    "                        (df_va_json.type == 'VA Health Care System') | (df_va_json.type == 'Outpatient Clinic')]"
   ]
  },
  {
   "cell_type": "code",
   "execution_count": 7,
   "metadata": {
    "collapsed": false
   },
   "outputs": [],
   "source": [
    "# drop irrelevant columns\n",
    "\n",
    "df_va_json = df_va_json.drop(df_va_json.columns[[0,2,4,7,8,9,10,12,13]], axis = 1)"
   ]
  },
  {
   "cell_type": "code",
   "execution_count": 8,
   "metadata": {
    "collapsed": false
   },
   "outputs": [],
   "source": [
    "# add in missing data from facility id '612A4'\n",
    "\n",
    "df_va_missing = pd.DataFrame({'city': ['Mather'], 'facility_id': ['612A4'], 'latitude': [38.57306], 'longitude': [-121.295515], 'state': ['CA']})"
   ]
  },
  {
   "cell_type": "code",
   "execution_count": 9,
   "metadata": {
    "collapsed": true
   },
   "outputs": [],
   "source": [
    "# Concatenate dataframes\n",
    "\n",
    "frames = [df_va_json, df_va_missing]\n",
    "df_va_json = pd.concat(frames)"
   ]
  },
  {
   "cell_type": "code",
   "execution_count": 10,
   "metadata": {
    "collapsed": false
   },
   "outputs": [],
   "source": [
    "# rename column names\n",
    "\n",
    "df_va_json = df_va_json.rename(columns={'city': 'CITY', 'facility_id': 'FACILITY', 'latitude': 'LATITUDE', 'longitude':'LONGITUDE', 'state': 'STATE'})"
   ]
  },
  {
   "cell_type": "code",
   "execution_count": 11,
   "metadata": {
    "collapsed": true
   },
   "outputs": [],
   "source": [
    "# dtop duplicates\n",
    "\n",
    "df_va_json = df_va_json.drop_duplicates('FACILITY')"
   ]
  },
  {
   "cell_type": "code",
   "execution_count": 12,
   "metadata": {
    "collapsed": false
   },
   "outputs": [
    {
     "data": {
      "text/plain": [
       "CITY         892\n",
       "FACILITY     892\n",
       "LATITUDE     890\n",
       "LONGITUDE    890\n",
       "STATE        892\n",
       "dtype: int64"
      ]
     },
     "execution_count": 12,
     "metadata": {},
     "output_type": "execute_result"
    }
   ],
   "source": [
    "# verify count\n",
    "\n",
    "df_va_json.count()"
   ]
  },
  {
   "cell_type": "code",
   "execution_count": 13,
   "metadata": {
    "collapsed": true
   },
   "outputs": [],
   "source": [
    "# Assign new column based on file name year\n",
    "\n",
    "df2010 = df2010.assign(YEAR = 2010)\n",
    "df2011 = df2011.assign(YEAR = 2011)\n",
    "df2012 = df2012.assign(YEAR = 2012)\n",
    "df2013 = df2013.assign(YEAR = 2013)\n",
    "df2014 = df2014.assign(YEAR = 2014)"
   ]
  },
  {
   "cell_type": "code",
   "execution_count": 14,
   "metadata": {
    "collapsed": false
   },
   "outputs": [],
   "source": [
    "# assign new column based on file name quarter\n",
    "\n",
    "df2010 = df2010.assign(QUARTER = 'Q4')\n",
    "df2011 = df2011.assign(QUARTER = 'Q4')\n",
    "df2012 = df2012.assign(QUARTER = 'Q4')\n",
    "df2013 = df2013.assign(QUARTER = 'Q4')\n",
    "df2014 = df2014.assign(QUARTER = 'Q3')"
   ]
  },
  {
   "cell_type": "code",
   "execution_count": 15,
   "metadata": {
    "collapsed": false
   },
   "outputs": [],
   "source": [
    "# concatenate into single dataframe\n",
    "\n",
    "frames = [df2010,df2011,df2012,df2013,df2014]\n",
    "\n",
    "df = pd.concat(frames)"
   ]
  },
  {
   "cell_type": "code",
   "execution_count": 16,
   "metadata": {
    "collapsed": true
   },
   "outputs": [],
   "source": [
    "# create new dataframe for VISN average values (where FACILITY == 0)\n",
    "\n",
    "df_avg = df[df.FACILITY == '0']\n",
    "\n",
    "# write to csv into directory\n",
    "\n",
    "df_avg.to_csv('VA Aspire Dashboard Average.csv')"
   ]
  },
  {
   "cell_type": "code",
   "execution_count": 17,
   "metadata": {
    "collapsed": false
   },
   "outputs": [],
   "source": [
    "# drop rows with VISN average values based on FACILITY value\n",
    "\n",
    "df = df[df.FACILITY != '0']"
   ]
  },
  {
   "cell_type": "code",
   "execution_count": 18,
   "metadata": {
    "collapsed": false
   },
   "outputs": [
    {
     "data": {
      "text/plain": [
       "MEASURE     62160\n",
       "TYPE        62160\n",
       "HILO        33300\n",
       "DECS        62160\n",
       "GOAL        25456\n",
       "AVG         35964\n",
       "VISN        62160\n",
       "FACILITY    62160\n",
       "LOCATION    62160\n",
       "VALUE       25138\n",
       "SCORE       62160\n",
       "TREND       13761\n",
       "NOTES       62160\n",
       "YEAR        62160\n",
       "QUARTER     62160\n",
       "dtype: int64"
      ]
     },
     "execution_count": 18,
     "metadata": {},
     "output_type": "execute_result"
    }
   ],
   "source": [
    "# display df count\n",
    "\n",
    "df.count()"
   ]
  },
  {
   "cell_type": "code",
   "execution_count": 19,
   "metadata": {
    "collapsed": false
   },
   "outputs": [],
   "source": [
    "# Merging the df dataframe with the df_va_json dataframe based off values in the df.FACILITY column\n",
    "# and matching them with values in the df_va_json.FACILITY column\n",
    "\n",
    "df = pd.merge(left=df, right=df_va_json, how='left', left_on='FACILITY', right_on='FACILITY')"
   ]
  },
  {
   "cell_type": "code",
   "execution_count": 20,
   "metadata": {
    "collapsed": false
   },
   "outputs": [
    {
     "data": {
      "text/plain": [
       "MEASURE      62160\n",
       "TYPE         62160\n",
       "HILO         33300\n",
       "DECS         62160\n",
       "GOAL         25456\n",
       "AVG          35964\n",
       "VISN         62160\n",
       "FACILITY     62160\n",
       "LOCATION     62160\n",
       "VALUE        25138\n",
       "SCORE        62160\n",
       "TREND        13761\n",
       "NOTES        62160\n",
       "YEAR         62160\n",
       "QUARTER      62160\n",
       "CITY         62160\n",
       "LATITUDE     62160\n",
       "LONGITUDE    62160\n",
       "STATE        62160\n",
       "dtype: int64"
      ]
     },
     "execution_count": 20,
     "metadata": {},
     "output_type": "execute_result"
    }
   ],
   "source": [
    "# Verifying counts are correct after the left merge\n",
    "\n",
    "df.count()"
   ]
  },
  {
   "cell_type": "code",
   "execution_count": 21,
   "metadata": {
    "collapsed": true
   },
   "outputs": [],
   "source": [
    "# Dropping column \"LOCATION\" as this data has been separated out into other columns\n",
    "\n",
    "df = df.drop('LOCATION', 1)"
   ]
  },
  {
   "cell_type": "code",
   "execution_count": 22,
   "metadata": {
    "collapsed": false
   },
   "outputs": [],
   "source": [
    "# Creating columns for region based off of this VA Aspire map: http://www.benefits.va.gov/reports/aspiremap.asp/\n",
    "\n",
    "region = []\n",
    "\n",
    "for row in df.STATE:\n",
    "    if (row == 'AR' or row == 'CO' or row == 'LA' or row == 'MS' or row == 'MT' or\n",
    "        row == 'OK' or row == 'TX' or row == 'UT' or row == 'WY'):\n",
    "        region.append('Continental')\n",
    "    elif (row == 'IL' or row == 'IN' or row == 'IA' or row == 'KS' or row == 'MI' or\n",
    "          row == 'MN' or row == 'MO' or row == 'NE' or row == 'ND' or row == 'OH' or\n",
    "          row == 'SD' or row == 'WI'):\n",
    "        region.append('Midwest')\n",
    "    elif (row == 'CT' or row == 'DE' or row == 'ME' or row == 'MD' or row == 'MA' or\n",
    "          row == 'NH' or row == 'NJ' or row == 'NY' or row == 'NC' or row == 'PA' or\n",
    "          row == 'RI' or row == 'VT' or row == 'VA' or row == 'WV'):\n",
    "        region.append('North Atlantic')\n",
    "    elif (row == 'AK' or row == 'AZ' or row == 'CA' or row == 'HI' or row == 'ID' or\n",
    "          row == 'NV' or row == 'NM' or row == 'OR' or row == 'WA'):\n",
    "        region.append('Pacific')\n",
    "    elif (row == 'AL' or row == 'FL' or row == 'GA' or row == 'KY' or row == 'SC' or \n",
    "          row =='TN'):\n",
    "        region.append('Southeast')\n",
    "    else:\n",
    "        region.append('Other')\n",
    "\n",
    "df['REGION ']= region"
   ]
  },
  {
   "cell_type": "code",
   "execution_count": 23,
   "metadata": {
    "collapsed": false
   },
   "outputs": [],
   "source": [
    "# Create new measure dataframe and split column: MEASURE based on first '-'\n",
    "\n",
    "df_measure = df['MEASURE'].str.split('-', expand=True, n=1)"
   ]
  },
  {
   "cell_type": "code",
   "execution_count": 24,
   "metadata": {
    "collapsed": false
   },
   "outputs": [],
   "source": [
    "# rename column headers for df_measure\n",
    "\n",
    "df_measure = df_measure.rename(columns={0: 'CATEGORY', 1: 'MEASURE'})"
   ]
  },
  {
   "cell_type": "code",
   "execution_count": 25,
   "metadata": {
    "collapsed": false
   },
   "outputs": [
    {
     "data": {
      "text/html": [
       "<div>\n",
       "<table border=\"1\" class=\"dataframe\">\n",
       "  <thead>\n",
       "    <tr style=\"text-align: right;\">\n",
       "      <th></th>\n",
       "      <th>CATEGORY</th>\n",
       "      <th>MEASURE</th>\n",
       "    </tr>\n",
       "  </thead>\n",
       "  <tbody>\n",
       "    <tr>\n",
       "      <th>0</th>\n",
       "      <td>Safety</td>\n",
       "      <td>Healthcare associated infections - MRSA infec...</td>\n",
       "    </tr>\n",
       "    <tr>\n",
       "      <th>1</th>\n",
       "      <td>Safety</td>\n",
       "      <td>Healthcare associated infections - MRSA infec...</td>\n",
       "    </tr>\n",
       "    <tr>\n",
       "      <th>2</th>\n",
       "      <td>Safety</td>\n",
       "      <td>Healthcare associated infections - MRSA infec...</td>\n",
       "    </tr>\n",
       "    <tr>\n",
       "      <th>3</th>\n",
       "      <td>Safety</td>\n",
       "      <td>Healthcare associated infections - MRSA infec...</td>\n",
       "    </tr>\n",
       "    <tr>\n",
       "      <th>4</th>\n",
       "      <td>Safety</td>\n",
       "      <td>Healthcare associated infections - MRSA infec...</td>\n",
       "    </tr>\n",
       "  </tbody>\n",
       "</table>\n",
       "</div>"
      ],
      "text/plain": [
       "  CATEGORY                                            MEASURE\n",
       "0  Safety    Healthcare associated infections - MRSA infec...\n",
       "1  Safety    Healthcare associated infections - MRSA infec...\n",
       "2  Safety    Healthcare associated infections - MRSA infec...\n",
       "3  Safety    Healthcare associated infections - MRSA infec...\n",
       "4  Safety    Healthcare associated infections - MRSA infec..."
      ]
     },
     "execution_count": 25,
     "metadata": {},
     "output_type": "execute_result"
    }
   ],
   "source": [
    "# verify df_measure before concatenation\n",
    "\n",
    "df_measure.head()"
   ]
  },
  {
   "cell_type": "code",
   "execution_count": 26,
   "metadata": {
    "collapsed": true
   },
   "outputs": [],
   "source": [
    "# concatenate df_measure with df\n",
    "\n",
    "df = pd.concat([df_measure, df], axis = 1)"
   ]
  },
  {
   "cell_type": "code",
   "execution_count": 27,
   "metadata": {
    "collapsed": false,
    "scrolled": false
   },
   "outputs": [
    {
     "data": {
      "text/html": [
       "<div>\n",
       "<table border=\"1\" class=\"dataframe\">\n",
       "  <thead>\n",
       "    <tr style=\"text-align: right;\">\n",
       "      <th></th>\n",
       "      <th>CATEGORY</th>\n",
       "      <th>MEASURE</th>\n",
       "      <th>MEASURE</th>\n",
       "      <th>TYPE</th>\n",
       "      <th>HILO</th>\n",
       "      <th>DECS</th>\n",
       "      <th>GOAL</th>\n",
       "      <th>AVG</th>\n",
       "      <th>VISN</th>\n",
       "      <th>FACILITY</th>\n",
       "      <th>...</th>\n",
       "      <th>SCORE</th>\n",
       "      <th>TREND</th>\n",
       "      <th>NOTES</th>\n",
       "      <th>YEAR</th>\n",
       "      <th>QUARTER</th>\n",
       "      <th>CITY</th>\n",
       "      <th>LATITUDE</th>\n",
       "      <th>LONGITUDE</th>\n",
       "      <th>STATE</th>\n",
       "      <th>REGION</th>\n",
       "    </tr>\n",
       "  </thead>\n",
       "  <tbody>\n",
       "    <tr>\n",
       "      <th>0</th>\n",
       "      <td>Safety</td>\n",
       "      <td>Healthcare associated infections - MRSA infec...</td>\n",
       "      <td>Safety - Healthcare associated infections - MR...</td>\n",
       "      <td>outcomes</td>\n",
       "      <td>lower</td>\n",
       "      <td>2</td>\n",
       "      <td>0</td>\n",
       "      <td>0.1992</td>\n",
       "      <td>1</td>\n",
       "      <td>402</td>\n",
       "      <td>...</td>\n",
       "      <td>4</td>\n",
       "      <td>-1</td>\n",
       "      <td>value within 10% of aspirational goal;</td>\n",
       "      <td>2010</td>\n",
       "      <td>Q4</td>\n",
       "      <td>Augusta</td>\n",
       "      <td>44.279805</td>\n",
       "      <td>-69.701815</td>\n",
       "      <td>ME</td>\n",
       "      <td>North Atlantic</td>\n",
       "    </tr>\n",
       "    <tr>\n",
       "      <th>1</th>\n",
       "      <td>Safety</td>\n",
       "      <td>Healthcare associated infections - MRSA infec...</td>\n",
       "      <td>Safety - Healthcare associated infections - MR...</td>\n",
       "      <td>outcomes</td>\n",
       "      <td>lower</td>\n",
       "      <td>2</td>\n",
       "      <td>0</td>\n",
       "      <td>0.1992</td>\n",
       "      <td>1</td>\n",
       "      <td>405</td>\n",
       "      <td>...</td>\n",
       "      <td>4</td>\n",
       "      <td>0</td>\n",
       "      <td>value within 10% of aspirational goal;</td>\n",
       "      <td>2010</td>\n",
       "      <td>Q4</td>\n",
       "      <td>White River Junction</td>\n",
       "      <td>43.648498</td>\n",
       "      <td>-72.342911</td>\n",
       "      <td>VT</td>\n",
       "      <td>North Atlantic</td>\n",
       "    </tr>\n",
       "    <tr>\n",
       "      <th>2</th>\n",
       "      <td>Safety</td>\n",
       "      <td>Healthcare associated infections - MRSA infec...</td>\n",
       "      <td>Safety - Healthcare associated infections - MR...</td>\n",
       "      <td>outcomes</td>\n",
       "      <td>lower</td>\n",
       "      <td>2</td>\n",
       "      <td>0</td>\n",
       "      <td>0.1992</td>\n",
       "      <td>1</td>\n",
       "      <td>518</td>\n",
       "      <td>...</td>\n",
       "      <td>0</td>\n",
       "      <td>NaN</td>\n",
       "      <td>no data available;</td>\n",
       "      <td>2010</td>\n",
       "      <td>Q4</td>\n",
       "      <td>Bedford</td>\n",
       "      <td>42.502902</td>\n",
       "      <td>-71.272671</td>\n",
       "      <td>MA</td>\n",
       "      <td>North Atlantic</td>\n",
       "    </tr>\n",
       "    <tr>\n",
       "      <th>3</th>\n",
       "      <td>Safety</td>\n",
       "      <td>Healthcare associated infections - MRSA infec...</td>\n",
       "      <td>Safety - Healthcare associated infections - MR...</td>\n",
       "      <td>outcomes</td>\n",
       "      <td>lower</td>\n",
       "      <td>2</td>\n",
       "      <td>0</td>\n",
       "      <td>0.1992</td>\n",
       "      <td>1</td>\n",
       "      <td>523A4</td>\n",
       "      <td>...</td>\n",
       "      <td>4</td>\n",
       "      <td>0</td>\n",
       "      <td>value within 10% of aspirational goal;</td>\n",
       "      <td>2010</td>\n",
       "      <td>Q4</td>\n",
       "      <td>West Roxbury</td>\n",
       "      <td>42.270702</td>\n",
       "      <td>-71.171977</td>\n",
       "      <td>MA</td>\n",
       "      <td>North Atlantic</td>\n",
       "    </tr>\n",
       "    <tr>\n",
       "      <th>4</th>\n",
       "      <td>Safety</td>\n",
       "      <td>Healthcare associated infections - MRSA infec...</td>\n",
       "      <td>Safety - Healthcare associated infections - MR...</td>\n",
       "      <td>outcomes</td>\n",
       "      <td>lower</td>\n",
       "      <td>2</td>\n",
       "      <td>0</td>\n",
       "      <td>0.1992</td>\n",
       "      <td>1</td>\n",
       "      <td>523A5</td>\n",
       "      <td>...</td>\n",
       "      <td>0</td>\n",
       "      <td>NaN</td>\n",
       "      <td>no data available;</td>\n",
       "      <td>2010</td>\n",
       "      <td>Q4</td>\n",
       "      <td>Brockton</td>\n",
       "      <td>42.065109</td>\n",
       "      <td>-71.054714</td>\n",
       "      <td>MA</td>\n",
       "      <td>North Atlantic</td>\n",
       "    </tr>\n",
       "  </tbody>\n",
       "</table>\n",
       "<p>5 rows × 21 columns</p>\n",
       "</div>"
      ],
      "text/plain": [
       "  CATEGORY                                            MEASURE  \\\n",
       "0  Safety    Healthcare associated infections - MRSA infec...   \n",
       "1  Safety    Healthcare associated infections - MRSA infec...   \n",
       "2  Safety    Healthcare associated infections - MRSA infec...   \n",
       "3  Safety    Healthcare associated infections - MRSA infec...   \n",
       "4  Safety    Healthcare associated infections - MRSA infec...   \n",
       "\n",
       "                                             MEASURE      TYPE   HILO  DECS  \\\n",
       "0  Safety - Healthcare associated infections - MR...  outcomes  lower     2   \n",
       "1  Safety - Healthcare associated infections - MR...  outcomes  lower     2   \n",
       "2  Safety - Healthcare associated infections - MR...  outcomes  lower     2   \n",
       "3  Safety - Healthcare associated infections - MR...  outcomes  lower     2   \n",
       "4  Safety - Healthcare associated infections - MR...  outcomes  lower     2   \n",
       "\n",
       "   GOAL     AVG  VISN FACILITY       ...        SCORE  TREND  \\\n",
       "0     0  0.1992     1      402       ...            4     -1   \n",
       "1     0  0.1992     1      405       ...            4      0   \n",
       "2     0  0.1992     1      518       ...            0    NaN   \n",
       "3     0  0.1992     1    523A4       ...            4      0   \n",
       "4     0  0.1992     1    523A5       ...            0    NaN   \n",
       "\n",
       "                                     NOTES  YEAR  QUARTER  \\\n",
       "0  value within 10% of aspirational goal;   2010       Q4   \n",
       "1  value within 10% of aspirational goal;   2010       Q4   \n",
       "2                      no data available;   2010       Q4   \n",
       "3  value within 10% of aspirational goal;   2010       Q4   \n",
       "4                      no data available;   2010       Q4   \n",
       "\n",
       "                   CITY   LATITUDE  LONGITUDE  STATE         REGION   \n",
       "0               Augusta  44.279805 -69.701815     ME  North Atlantic  \n",
       "1  White River Junction  43.648498 -72.342911     VT  North Atlantic  \n",
       "2               Bedford  42.502902 -71.272671     MA  North Atlantic  \n",
       "3          West Roxbury  42.270702 -71.171977     MA  North Atlantic  \n",
       "4              Brockton  42.065109 -71.054714     MA  North Atlantic  \n",
       "\n",
       "[5 rows x 21 columns]"
      ]
     },
     "execution_count": 27,
     "metadata": {},
     "output_type": "execute_result"
    }
   ],
   "source": [
    "# Verifying that the file looks good to publish \n",
    "\n",
    "df.head()"
   ]
  },
  {
   "cell_type": "code",
   "execution_count": 28,
   "metadata": {
    "collapsed": false
   },
   "outputs": [],
   "source": [
    "#Looks good! Ready to publish.\n",
    "\n",
    "df.to_csv('VA Aspire Dashboard.csv', index=False)"
   ]
  },
  {
   "cell_type": "code",
   "execution_count": null,
   "metadata": {
    "collapsed": true
   },
   "outputs": [],
   "source": [
    "###WILL NOT RUN WITHOUT MODIFICATION###\n",
    "# Will not work without updating credential values, dataset id values\n",
    "# Also should be run from the command prompt/terminal\n",
    "\n",
    "# Source for test upload of data to existing dataset, read more here: https://github.com/xmun0x/sodapy\n",
    "# must install package: pip install sodapy\n",
    "\n",
    "from sodapy import Socrata\n",
    "\n",
    "client = Socrata(\"url.socrata.com\", \"MyAppToken\", username = \"myemail@mydomain.com\", password = \"MyP@s$W0RD!\")\n",
    "\n",
    "#Dataset has to be created on socrata.com prior to running this field in order to generate Socrata '4x4' id\n",
    "\n",
    "data = open(\"VA Aspire Dashboard.csv\")\n",
    "\n",
    "client.replace(\"####-####\", data)\n",
    "\n",
    "#close connection\n",
    "\n",
    "client.close()"
   ]
  }
 ],
 "metadata": {
  "kernelspec": {
   "display_name": "Python 2",
   "language": "python",
   "name": "python2"
  },
  "language_info": {
   "codemirror_mode": {
    "name": "ipython",
    "version": 2
   },
   "file_extension": ".py",
   "mimetype": "text/x-python",
   "name": "python",
   "nbconvert_exporter": "python",
   "pygments_lexer": "ipython2",
   "version": "2.7.10"
  }
 },
 "nbformat": 4,
 "nbformat_minor": 0
}
