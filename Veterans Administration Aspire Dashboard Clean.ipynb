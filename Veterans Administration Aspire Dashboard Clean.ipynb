{
 "cells": [
  {
   "cell_type": "code",
   "execution_count": 1,
   "metadata": {
    "collapsed": true
   },
   "outputs": [],
   "source": [
    "# import packages for cleaning and exploratory analysis\n",
    "import pandas as pd\n",
    "import seaborn as sns\n",
    "% matplotlib inline"
   ]
  },
  {
   "cell_type": "code",
   "execution_count": 2,
   "metadata": {
    "collapsed": true
   },
   "outputs": [],
   "source": [
    "df2010 = pd.read_csv('/Users/Elliot/Desktop/SocrataInput/VA Hospital compare data - export - 2010_Q4.csv')\n",
    "df2011 = pd.read_csv('/Users/Elliot/Desktop/SocrataInput/VA Hospital compare data - export - 2011_Q4.csv')\n",
    "df2012 = pd.read_csv('/Users/Elliot/Desktop/SocrataInput/VA Hospital compare data - export - 2012_Q4.csv')\n",
    "df2013 = pd.read_csv('/Users/Elliot/Desktop/SocrataInput/VA Hospital compare data - export - 2013_Q4.csv')\n",
    "df2014 = pd.read_csv('/Users/Elliot/Desktop/SocrataInput/VA Hospital compare data - export - 2014_Q3.csv')"
   ]
  },
  {
   "cell_type": "code",
   "execution_count": 3,
   "metadata": {
    "collapsed": false
   },
   "outputs": [],
   "source": [
    "va_json = pd.read_json('https://raw.githubusercontent.com/department-of-veterans-affairs/VHA-Facilities/master/VAFacilityLocation.json', orient='columns')"
   ]
  },
  {
   "cell_type": "code",
   "execution_count": 4,
   "metadata": {
    "collapsed": false
   },
   "outputs": [],
   "source": [
    "va_json = va_json.drop(va_json.columns[[0,1,2,3]], axis = 1)"
   ]
  },
  {
   "cell_type": "code",
   "execution_count": 5,
   "metadata": {
    "collapsed": true
   },
   "outputs": [],
   "source": [
    "df_va_json = pd.read_json((va_json.VAFacilityData).to_json(), orient='index')"
   ]
  },
  {
   "cell_type": "code",
   "execution_count": 6,
   "metadata": {
    "collapsed": false
   },
   "outputs": [],
   "source": [
    "df_va_json = df_va_json[df_va_json.type == 'VA Medical Center']"
   ]
  },
  {
   "cell_type": "code",
   "execution_count": 7,
   "metadata": {
    "collapsed": false
   },
   "outputs": [],
   "source": [
    "df_va_json = df_va_json.drop(df_va_json.columns[[0,2,4,7,8,9,10,12,13]], axis = 1)"
   ]
  },
  {
   "cell_type": "code",
   "execution_count": 8,
   "metadata": {
    "collapsed": false
   },
   "outputs": [],
   "source": [
    "df_va_json = df_va_json.rename(columns={'city': 'CITY', 'facility_id': 'FACILITY', 'latitude': 'LATITUDE', 'longitude':'LONGITUDE', 'state': 'STATE'})"
   ]
  },
  {
   "cell_type": "code",
   "execution_count": 9,
   "metadata": {
    "collapsed": false
   },
   "outputs": [
    {
     "data": {
      "text/html": [
       "<div>\n",
       "<table border=\"1\" class=\"dataframe\">\n",
       "  <thead>\n",
       "    <tr style=\"text-align: right;\">\n",
       "      <th></th>\n",
       "      <th>CITY</th>\n",
       "      <th>FACILITY</th>\n",
       "      <th>LATITUDE</th>\n",
       "      <th>LONGITUDE</th>\n",
       "      <th>STATE</th>\n",
       "    </tr>\n",
       "  </thead>\n",
       "  <tbody>\n",
       "    <tr>\n",
       "      <th>10</th>\n",
       "      <td>West Haven</td>\n",
       "      <td>689</td>\n",
       "      <td>41.284505</td>\n",
       "      <td>-72.957551</td>\n",
       "      <td>CT</td>\n",
       "    </tr>\n",
       "    <tr>\n",
       "      <th>1008</th>\n",
       "      <td>Cheyenne</td>\n",
       "      <td>442</td>\n",
       "      <td>41.145865</td>\n",
       "      <td>-104.787676</td>\n",
       "      <td>WY</td>\n",
       "    </tr>\n",
       "    <tr>\n",
       "      <th>1009</th>\n",
       "      <td>Grand Junction</td>\n",
       "      <td>575</td>\n",
       "      <td>39.077183</td>\n",
       "      <td>-108.540342</td>\n",
       "      <td>CO</td>\n",
       "    </tr>\n",
       "    <tr>\n",
       "      <th>1010</th>\n",
       "      <td>Sheridan</td>\n",
       "      <td>666</td>\n",
       "      <td>44.826823</td>\n",
       "      <td>-106.984918</td>\n",
       "      <td>WY</td>\n",
       "    </tr>\n",
       "    <tr>\n",
       "      <th>11</th>\n",
       "      <td>Augusta</td>\n",
       "      <td>402</td>\n",
       "      <td>44.279805</td>\n",
       "      <td>-69.701815</td>\n",
       "      <td>ME</td>\n",
       "    </tr>\n",
       "  </tbody>\n",
       "</table>\n",
       "</div>"
      ],
      "text/plain": [
       "                CITY FACILITY   LATITUDE   LONGITUDE STATE\n",
       "10        West Haven      689  41.284505  -72.957551    CT\n",
       "1008        Cheyenne      442  41.145865 -104.787676    WY\n",
       "1009  Grand Junction      575  39.077183 -108.540342    CO\n",
       "1010        Sheridan      666  44.826823 -106.984918    WY\n",
       "11           Augusta      402  44.279805  -69.701815    ME"
      ]
     },
     "execution_count": 9,
     "metadata": {},
     "output_type": "execute_result"
    }
   ],
   "source": [
    "df_va_json.head()"
   ]
  },
  {
   "cell_type": "code",
   "execution_count": 10,
   "metadata": {
    "collapsed": true
   },
   "outputs": [],
   "source": [
    "df2010 = df2010.assign(YEAR = 2010)\n",
    "df2011 = df2011.assign(YEAR = 2011)\n",
    "df2012 = df2012.assign(YEAR = 2012)\n",
    "df2013 = df2013.assign(YEAR = 2013)\n",
    "df2014 = df2014.assign(YEAR = 2014)"
   ]
  },
  {
   "cell_type": "code",
   "execution_count": 11,
   "metadata": {
    "collapsed": false
   },
   "outputs": [],
   "source": [
    "df2010 = df2010.assign(QUARTER = 'Q4')\n",
    "df2011 = df2011.assign(QUARTER = 'Q4')\n",
    "df2012 = df2012.assign(QUARTER = 'Q4')\n",
    "df2013 = df2013.assign(QUARTER = 'Q4')\n",
    "df2014 = df2014.assign(QUARTER = 'Q3')"
   ]
  },
  {
   "cell_type": "code",
   "execution_count": 12,
   "metadata": {
    "collapsed": false
   },
   "outputs": [],
   "source": [
    "frames = [df2010,df2011,df2012,df2013,df2014]\n",
    "\n",
    "df = pd.concat(frames)"
   ]
  },
  {
   "cell_type": "code",
   "execution_count": 13,
   "metadata": {
    "collapsed": true
   },
   "outputs": [],
   "source": [
    "df_avg = df[df.FACILITY == '0']\n",
    "# df_avg = pd.merge(left=df_avg, right=df_va_json, how='left', left_on='FACILITY', right_on='FACILITY')\n",
    "# duplicate values on facility_id 598 (x2), 640 (X3), 673 (x2)\n",
    "# df_avg = df_avg.drop('LOCATION', 1)\n",
    "df_avg.to_csv('VA Aspire Dashboard Average.csv')"
   ]
  },
  {
   "cell_type": "code",
   "execution_count": 14,
   "metadata": {
    "collapsed": false
   },
   "outputs": [],
   "source": [
    "df = df[df.FACILITY != '0']"
   ]
  },
  {
   "cell_type": "code",
   "execution_count": 15,
   "metadata": {
    "collapsed": false
   },
   "outputs": [
    {
     "data": {
      "text/plain": [
       "MEASURE     62160\n",
       "TYPE        62160\n",
       "HILO        33300\n",
       "DECS        62160\n",
       "GOAL        25456\n",
       "AVG         35964\n",
       "VISN        62160\n",
       "FACILITY    62160\n",
       "LOCATION    62160\n",
       "VALUE       25138\n",
       "SCORE       62160\n",
       "TREND       13761\n",
       "NOTES       62160\n",
       "YEAR        62160\n",
       "QUARTER     62160\n",
       "dtype: int64"
      ]
     },
     "execution_count": 15,
     "metadata": {},
     "output_type": "execute_result"
    }
   ],
   "source": [
    "df.count()"
   ]
  },
  {
   "cell_type": "code",
   "execution_count": 16,
   "metadata": {
    "collapsed": false
   },
   "outputs": [],
   "source": [
    "df = pd.merge(left=df, right=df_va_json, how='left', left_on='FACILITY', right_on='FACILITY')\n",
    "# duplicate values on facility_id 598 (x2), 640 (X3), 673 (x2)"
   ]
  },
  {
   "cell_type": "code",
   "execution_count": 17,
   "metadata": {
    "collapsed": false
   },
   "outputs": [
    {
     "data": {
      "text/plain": [
       "MEASURE      63840\n",
       "TYPE         63840\n",
       "HILO         34200\n",
       "DECS         63840\n",
       "GOAL         26144\n",
       "AVG          36936\n",
       "VISN         63840\n",
       "FACILITY     63840\n",
       "LOCATION     63840\n",
       "VALUE        26039\n",
       "SCORE        63840\n",
       "TREND        14201\n",
       "NOTES        63840\n",
       "YEAR         63840\n",
       "QUARTER      63840\n",
       "CITY         51660\n",
       "LATITUDE     51660\n",
       "LONGITUDE    51660\n",
       "STATE        51660\n",
       "dtype: int64"
      ]
     },
     "execution_count": 17,
     "metadata": {},
     "output_type": "execute_result"
    }
   ],
   "source": [
    "df.count()"
   ]
  },
  {
   "cell_type": "code",
   "execution_count": 19,
   "metadata": {
    "collapsed": true
   },
   "outputs": [],
   "source": [
    "df = df.drop('LOCATION', 1)"
   ]
  },
  {
   "cell_type": "code",
   "execution_count": 20,
   "metadata": {
    "collapsed": false
   },
   "outputs": [
    {
     "data": {
      "text/html": [
       "<div>\n",
       "<table border=\"1\" class=\"dataframe\">\n",
       "  <thead>\n",
       "    <tr style=\"text-align: right;\">\n",
       "      <th></th>\n",
       "      <th>MEASURE</th>\n",
       "      <th>TYPE</th>\n",
       "      <th>HILO</th>\n",
       "      <th>DECS</th>\n",
       "      <th>GOAL</th>\n",
       "      <th>AVG</th>\n",
       "      <th>VISN</th>\n",
       "      <th>FACILITY</th>\n",
       "      <th>VALUE</th>\n",
       "      <th>SCORE</th>\n",
       "      <th>TREND</th>\n",
       "      <th>NOTES</th>\n",
       "      <th>YEAR</th>\n",
       "      <th>QUARTER</th>\n",
       "      <th>CITY</th>\n",
       "      <th>LATITUDE</th>\n",
       "      <th>LONGITUDE</th>\n",
       "      <th>STATE</th>\n",
       "    </tr>\n",
       "  </thead>\n",
       "  <tbody>\n",
       "    <tr>\n",
       "      <th>0</th>\n",
       "      <td>Safety - Healthcare associated infections - MR...</td>\n",
       "      <td>outcomes</td>\n",
       "      <td>lower</td>\n",
       "      <td>2</td>\n",
       "      <td>0</td>\n",
       "      <td>0.1992</td>\n",
       "      <td>1</td>\n",
       "      <td>402</td>\n",
       "      <td>0.22</td>\n",
       "      <td>4</td>\n",
       "      <td>-1</td>\n",
       "      <td>value within 10% of aspirational goal;</td>\n",
       "      <td>2010</td>\n",
       "      <td>Q4</td>\n",
       "      <td>Augusta</td>\n",
       "      <td>44.279805</td>\n",
       "      <td>-69.701815</td>\n",
       "      <td>ME</td>\n",
       "    </tr>\n",
       "    <tr>\n",
       "      <th>1</th>\n",
       "      <td>Safety - Healthcare associated infections - MR...</td>\n",
       "      <td>outcomes</td>\n",
       "      <td>lower</td>\n",
       "      <td>2</td>\n",
       "      <td>0</td>\n",
       "      <td>0.1992</td>\n",
       "      <td>1</td>\n",
       "      <td>405</td>\n",
       "      <td>0.10</td>\n",
       "      <td>4</td>\n",
       "      <td>0</td>\n",
       "      <td>value within 10% of aspirational goal;</td>\n",
       "      <td>2010</td>\n",
       "      <td>Q4</td>\n",
       "      <td>White River Junction</td>\n",
       "      <td>43.648498</td>\n",
       "      <td>-72.342911</td>\n",
       "      <td>VT</td>\n",
       "    </tr>\n",
       "    <tr>\n",
       "      <th>2</th>\n",
       "      <td>Safety - Healthcare associated infections - MR...</td>\n",
       "      <td>outcomes</td>\n",
       "      <td>lower</td>\n",
       "      <td>2</td>\n",
       "      <td>0</td>\n",
       "      <td>0.1992</td>\n",
       "      <td>1</td>\n",
       "      <td>518</td>\n",
       "      <td>NaN</td>\n",
       "      <td>0</td>\n",
       "      <td>NaN</td>\n",
       "      <td>no data available;</td>\n",
       "      <td>2010</td>\n",
       "      <td>Q4</td>\n",
       "      <td>Bedford</td>\n",
       "      <td>42.502902</td>\n",
       "      <td>-71.272671</td>\n",
       "      <td>MA</td>\n",
       "    </tr>\n",
       "    <tr>\n",
       "      <th>3</th>\n",
       "      <td>Safety - Healthcare associated infections - MR...</td>\n",
       "      <td>outcomes</td>\n",
       "      <td>lower</td>\n",
       "      <td>2</td>\n",
       "      <td>0</td>\n",
       "      <td>0.1992</td>\n",
       "      <td>1</td>\n",
       "      <td>523A4</td>\n",
       "      <td>0.18</td>\n",
       "      <td>4</td>\n",
       "      <td>0</td>\n",
       "      <td>value within 10% of aspirational goal;</td>\n",
       "      <td>2010</td>\n",
       "      <td>Q4</td>\n",
       "      <td>West Roxbury</td>\n",
       "      <td>42.270702</td>\n",
       "      <td>-71.171977</td>\n",
       "      <td>MA</td>\n",
       "    </tr>\n",
       "    <tr>\n",
       "      <th>4</th>\n",
       "      <td>Safety - Healthcare associated infections - MR...</td>\n",
       "      <td>outcomes</td>\n",
       "      <td>lower</td>\n",
       "      <td>2</td>\n",
       "      <td>0</td>\n",
       "      <td>0.1992</td>\n",
       "      <td>1</td>\n",
       "      <td>523A5</td>\n",
       "      <td>NaN</td>\n",
       "      <td>0</td>\n",
       "      <td>NaN</td>\n",
       "      <td>no data available;</td>\n",
       "      <td>2010</td>\n",
       "      <td>Q4</td>\n",
       "      <td>Brockton</td>\n",
       "      <td>42.065109</td>\n",
       "      <td>-71.054714</td>\n",
       "      <td>MA</td>\n",
       "    </tr>\n",
       "  </tbody>\n",
       "</table>\n",
       "</div>"
      ],
      "text/plain": [
       "                                             MEASURE      TYPE   HILO  DECS  \\\n",
       "0  Safety - Healthcare associated infections - MR...  outcomes  lower     2   \n",
       "1  Safety - Healthcare associated infections - MR...  outcomes  lower     2   \n",
       "2  Safety - Healthcare associated infections - MR...  outcomes  lower     2   \n",
       "3  Safety - Healthcare associated infections - MR...  outcomes  lower     2   \n",
       "4  Safety - Healthcare associated infections - MR...  outcomes  lower     2   \n",
       "\n",
       "   GOAL     AVG  VISN FACILITY  VALUE  SCORE  TREND  \\\n",
       "0     0  0.1992     1      402   0.22      4     -1   \n",
       "1     0  0.1992     1      405   0.10      4      0   \n",
       "2     0  0.1992     1      518    NaN      0    NaN   \n",
       "3     0  0.1992     1    523A4   0.18      4      0   \n",
       "4     0  0.1992     1    523A5    NaN      0    NaN   \n",
       "\n",
       "                                     NOTES  YEAR QUARTER  \\\n",
       "0  value within 10% of aspirational goal;   2010      Q4   \n",
       "1  value within 10% of aspirational goal;   2010      Q4   \n",
       "2                      no data available;   2010      Q4   \n",
       "3  value within 10% of aspirational goal;   2010      Q4   \n",
       "4                      no data available;   2010      Q4   \n",
       "\n",
       "                   CITY   LATITUDE  LONGITUDE STATE  \n",
       "0               Augusta  44.279805 -69.701815    ME  \n",
       "1  White River Junction  43.648498 -72.342911    VT  \n",
       "2               Bedford  42.502902 -71.272671    MA  \n",
       "3          West Roxbury  42.270702 -71.171977    MA  \n",
       "4              Brockton  42.065109 -71.054714    MA  "
      ]
     },
     "execution_count": 20,
     "metadata": {},
     "output_type": "execute_result"
    }
   ],
   "source": [
    "df.head()"
   ]
  },
  {
   "cell_type": "code",
   "execution_count": 21,
   "metadata": {
    "collapsed": true
   },
   "outputs": [],
   "source": [
    "df.to_csv('VA Aspire Dashboard.csv')"
   ]
  }
 ],
 "metadata": {
  "kernelspec": {
   "display_name": "Python 2",
   "language": "python",
   "name": "python2"
  },
  "language_info": {
   "codemirror_mode": {
    "name": "ipython",
    "version": 2
   },
   "file_extension": ".py",
   "mimetype": "text/x-python",
   "name": "python",
   "nbconvert_exporter": "python",
   "pygments_lexer": "ipython2",
   "version": "2.7.10"
  }
 },
 "nbformat": 4,
 "nbformat_minor": 0
}
